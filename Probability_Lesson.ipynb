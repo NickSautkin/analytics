{
 "cells": [
  {
   "cell_type": "code",
   "execution_count": 1,
   "id": "1be4c0c6",
   "metadata": {},
   "outputs": [],
   "source": [
    "from math import factorial\n",
    "\n",
    "def bino_koef(n, k): return factorial(n)/(factorial(k) * factorial(n - k))"
   ]
  },
  {
   "cell_type": "markdown",
   "id": "d68af526",
   "metadata": {},
   "source": [
    "### Задание 1.1\n",
    "\n",
    "Устройство, состоящее из пяти независимо работающих элементов, включается за время Т. Вероятность отказа каждого из них за это время равна 0,4. Найти вероятность того, что откажут три элемента. Ответ округлите до четырёх знаков после запятой. В качестве десятичного разделителя используйте точку."
   ]
  },
  {
   "cell_type": "code",
   "execution_count": 2,
   "id": "51f84692",
   "metadata": {},
   "outputs": [
    {
     "data": {
      "text/plain": [
       "0.2304"
      ]
     },
     "execution_count": 2,
     "metadata": {},
     "output_type": "execute_result"
    }
   ],
   "source": [
    "round(bino_koef(5, 3) * 0.4**3 * 0.6**(5 - 3), 4)"
   ]
  },
  {
   "cell_type": "code",
   "execution_count": null,
   "id": "4b4630c6",
   "metadata": {},
   "outputs": [],
   "source": []
  },
  {
   "cell_type": "markdown",
   "id": "a23d5b1b",
   "metadata": {},
   "source": [
    "### Задание 1.2\n",
    "\n",
    "Устройство, состоящее из пяти независимо работающих элементов, включается за время Т. Вероятность отказа каждого из них за это время равна 0,4. Найдите вероятность того, что хотя бы один элемент откажет. Ответ округлите до трёх знаков после запятой. В качестве десятичного разделителя используйте точку."
   ]
  },
  {
   "cell_type": "code",
   "execution_count": 3,
   "id": "0b027137",
   "metadata": {
    "scrolled": true
   },
   "outputs": [
    {
     "data": {
      "text/plain": [
       "0.922"
      ]
     },
     "execution_count": 3,
     "metadata": {},
     "output_type": "execute_result"
    }
   ],
   "source": [
    "round(1 - 0.6**5, 3)"
   ]
  },
  {
   "cell_type": "code",
   "execution_count": null,
   "id": "03ba2195",
   "metadata": {},
   "outputs": [],
   "source": []
  },
  {
   "cell_type": "markdown",
   "id": "e32705e9",
   "metadata": {},
   "source": [
    "### Задание 1.3\n",
    "\n",
    "Производится 8 выстрелов по цели, в каждом из которых вероятность попадания равна 0,3. Найти вероятность того, что цель будет поражена хотя бы два раза. Ответ округлите до тысячных. В качестве десятичного разделителя используйте точку."
   ]
  },
  {
   "cell_type": "code",
   "execution_count": 4,
   "id": "b58dab33",
   "metadata": {},
   "outputs": [
    {
     "data": {
      "text/plain": [
       "0.745"
      ]
     },
     "execution_count": 4,
     "metadata": {},
     "output_type": "execute_result"
    }
   ],
   "source": [
    "one = bino_koef(8, 1) * 0.3**1 * 0.7**(8-1)\n",
    "round(1 - (0.7**8) - one, 3)\n"
   ]
  },
  {
   "cell_type": "code",
   "execution_count": null,
   "id": "c089a113",
   "metadata": {},
   "outputs": [],
   "source": []
  },
  {
   "cell_type": "markdown",
   "id": "9b3e0ee9",
   "metadata": {},
   "source": [
    "### Задание 1.4\n",
    "\n",
    "В магазине 7 покупателей. Каждый может совершить покупку с вероятностью 0,4. Найти вероятность того, что не более двух человек совершат покупку. Ответ округлите до сотых. В качестве десятичного разделителя используйте точку."
   ]
  },
  {
   "cell_type": "code",
   "execution_count": 5,
   "id": "98581aa6",
   "metadata": {},
   "outputs": [
    {
     "data": {
      "text/plain": [
       "0.42"
      ]
     },
     "execution_count": 5,
     "metadata": {},
     "output_type": "execute_result"
    }
   ],
   "source": [
    "round(0.6**7 + bino_koef(7, 1) * 0.4**1 * 0.6**(7 - 1) + bino_koef(7, 2) * 0.4**2 * 0.6**(7 - 2), 2)"
   ]
  },
  {
   "cell_type": "code",
   "execution_count": null,
   "id": "7b06d08a",
   "metadata": {},
   "outputs": [],
   "source": []
  },
  {
   "cell_type": "markdown",
   "id": "327f420d",
   "metadata": {},
   "source": [
    "### Задание 1.5\n",
    "\n",
    "В телеателье имеется 7 телевизоров. Для каждого телевизора вероятность того, что в данный момент он включен, равна 0,5. Найти вероятность того, что в данный момент включены не менее трех телевизоров. Ответ округлите до тысячных. В качестве десятичного разделителя используйте точку."
   ]
  },
  {
   "cell_type": "code",
   "execution_count": 6,
   "id": "70ca420f",
   "metadata": {},
   "outputs": [
    {
     "data": {
      "text/plain": [
       "0.773"
      ]
     },
     "execution_count": 6,
     "metadata": {},
     "output_type": "execute_result"
    }
   ],
   "source": [
    "round(1-(0.5**7 + bino_koef(7, 1)*0.5**1*0.5**(7-1) + bino_koef(7, 2)*0.5**2*0.5**(7-2)), 3)"
   ]
  },
  {
   "cell_type": "code",
   "execution_count": null,
   "id": "77d37a1f",
   "metadata": {},
   "outputs": [],
   "source": []
  },
  {
   "cell_type": "markdown",
   "id": "a9a2123e",
   "metadata": {},
   "source": [
    "### Задание 1.6\n",
    "\n",
    "Пусть вероятность того, что покупателю необходим компьютер с операционной системой Linux, равна 0.25. Найдите вероятность того, что из шести покупателей по крайней мере двум необходим компьютер с операционной системой Linux.\n",
    "\n",
    "Ответ округлите до сотых, в качестве разделителя используйте точку."
   ]
  },
  {
   "cell_type": "code",
   "execution_count": 7,
   "id": "db288448",
   "metadata": {},
   "outputs": [
    {
     "data": {
      "text/plain": [
       "0.47"
      ]
     },
     "execution_count": 7,
     "metadata": {},
     "output_type": "execute_result"
    }
   ],
   "source": [
    "round(1-(0.75**6 + bino_koef(6, 1)*0.25**1*0.75**(6-1)), 2)"
   ]
  },
  {
   "cell_type": "code",
   "execution_count": null,
   "id": "251414c0",
   "metadata": {},
   "outputs": [],
   "source": []
  },
  {
   "cell_type": "markdown",
   "id": "0949fdec",
   "metadata": {},
   "source": [
    "### Задание 1.7\n",
    "\n",
    "Для нормальной работы отдела по дата-аналитике необходимо, чтобы в офисе было не менее восьми программистов, а всего в штате 10 программистов. Вероятность того, что программист заболеет, равна 0.1. Найдите вероятность нормальной работы отдела по дата-аналитике.\n",
    "Ответ округлите до сотых, а в качестве разделителя используйте точку."
   ]
  },
  {
   "cell_type": "code",
   "execution_count": 8,
   "id": "4fb7f973",
   "metadata": {},
   "outputs": [
    {
     "data": {
      "text/plain": [
       "0.93"
      ]
     },
     "execution_count": 8,
     "metadata": {},
     "output_type": "execute_result"
    }
   ],
   "source": [
    "round(0.9**10 + bino_koef(10, 1)*0.1**1*0.9**(10-1) + bino_koef(10, 2)*0.1**2*0.9**(10-2), 2)"
   ]
  },
  {
   "cell_type": "code",
   "execution_count": null,
   "id": "2aa899b1",
   "metadata": {},
   "outputs": [],
   "source": []
  },
  {
   "cell_type": "markdown",
   "id": "65f04cf4",
   "metadata": {},
   "source": [
    "### Задание 1.8\n",
    "\n",
    "Среди всех скриптов, которые пишет программист, с 10%-ой вероятностью скрипт будет с ошибкой. Найдем вероятность того, что среди 30 скриптов два не будут работать.\n",
    "\n",
    "Ответ округлите до тысячных, в качестве десятичного разделителя используйте точку."
   ]
  },
  {
   "cell_type": "code",
   "execution_count": 9,
   "id": "56de840c",
   "metadata": {},
   "outputs": [
    {
     "data": {
      "text/plain": [
       "0.228"
      ]
     },
     "execution_count": 9,
     "metadata": {},
     "output_type": "execute_result"
    }
   ],
   "source": [
    "round(bino_koef(30, 2)*0.1**2*0.9**(30-2), 3)"
   ]
  },
  {
   "cell_type": "code",
   "execution_count": null,
   "id": "7ce86744",
   "metadata": {},
   "outputs": [],
   "source": []
  },
  {
   "cell_type": "markdown",
   "id": "f6666996",
   "metadata": {},
   "source": [
    "### Задание 1.9\n",
    "\n",
    "В очень большом чате по дата аналитике сидит 1730 человек. Вероятность того, что день рождения наугад взятого участника чата приходится на определенный день года, равна 1/365 для каждого из 365 дней. Найдем наиболее вероятное число счастливчиков, которые родились 1 марта."
   ]
  },
  {
   "cell_type": "code",
   "execution_count": 10,
   "id": "806a0593",
   "metadata": {},
   "outputs": [
    {
     "data": {
      "text/plain": [
       "3.742465753424658"
      ]
     },
     "execution_count": 10,
     "metadata": {},
     "output_type": "execute_result"
    }
   ],
   "source": [
    "1730*(1/365) - (364/365)"
   ]
  },
  {
   "cell_type": "code",
   "execution_count": 11,
   "id": "9c821b92",
   "metadata": {},
   "outputs": [
    {
     "data": {
      "text/plain": [
       "4.742465753424658"
      ]
     },
     "execution_count": 11,
     "metadata": {},
     "output_type": "execute_result"
    }
   ],
   "source": [
    "1730*(1/365) + (1/365)"
   ]
  },
  {
   "cell_type": "code",
   "execution_count": null,
   "id": "e6c17e5e",
   "metadata": {},
   "outputs": [],
   "source": []
  },
  {
   "cell_type": "markdown",
   "id": "f35f19ea",
   "metadata": {},
   "source": [
    "### Задание 1.10\n",
    "\n",
    "В урне 20 шаров: 15 белых и 5 чёрных. Вынули подряд 5 шаров, причём каждый вынутый шар возвращается в урну и перед извлечением следующего шары в урне тщательно перемешиваются. Найдите вероятность того, что из пяти вынутых шаров будет 2 белых.\n",
    "\n",
    "Ответ округлите до тысячных, в качестве десятичного разделителя используйте точку."
   ]
  },
  {
   "cell_type": "code",
   "execution_count": 12,
   "id": "06115883",
   "metadata": {},
   "outputs": [
    {
     "data": {
      "text/plain": [
       "0.088"
      ]
     },
     "execution_count": 12,
     "metadata": {},
     "output_type": "execute_result"
    }
   ],
   "source": [
    "round(bino_koef(5, 2) * (15/20)**2 * (5/20)**(5-2), 3)"
   ]
  },
  {
   "cell_type": "code",
   "execution_count": null,
   "id": "00f47bf3",
   "metadata": {},
   "outputs": [],
   "source": []
  },
  {
   "cell_type": "markdown",
   "id": "36b52c01",
   "metadata": {},
   "source": [
    "### Задание 2.1\n",
    "\n",
    "Из 500 компьютеров  180 принадлежат к 1 партии, 170 – ко второй партии, остальные к третьей. В первой партии 3% брака, во второй — 2%, в третьей – 6%. Случайно выбирается один компьютер. Определить вероятность того, что выбранный компьютер – бракованный.  Округлите полученный ответ до десятитысячных. В качестве разделителя используйте точку."
   ]
  },
  {
   "cell_type": "code",
   "execution_count": 13,
   "id": "6691d766",
   "metadata": {},
   "outputs": [
    {
     "data": {
      "text/plain": [
       "0.0356"
      ]
     },
     "execution_count": 13,
     "metadata": {},
     "output_type": "execute_result"
    }
   ],
   "source": [
    "round(0.03 * 180 / 500 + 0.02 * 170 /500 + 0.06 * 150 / 500, 4)"
   ]
  },
  {
   "cell_type": "code",
   "execution_count": null,
   "id": "b88d0eba",
   "metadata": {},
   "outputs": [],
   "source": []
  },
  {
   "cell_type": "markdown",
   "id": "f7aebf84",
   "metadata": {},
   "source": [
    "### Задание 2.2\n",
    "\n",
    "Есть компания с программистами. В ней на языке Java пишут в 3 раза больше человек, чем на языке C++. Программистов на языке C++ в 4 раза больше, чем на Python. Вероятность сделать работу за один день для Java-программиста — 0,85, для программиста на языке C++ 0,9, а для Python программиста 0,8. Найти вероятность того, что программист, выбранный наугад, сделает работу за один день. Ответ округлите до сотых. В качестве десятичного разделителя используйте точку."
   ]
  },
  {
   "cell_type": "code",
   "execution_count": 14,
   "id": "381615ef",
   "metadata": {},
   "outputs": [
    {
     "data": {
      "text/plain": [
       "0.86"
      ]
     },
     "execution_count": 14,
     "metadata": {},
     "output_type": "execute_result"
    }
   ],
   "source": [
    "round(0.85 * 12 / 17 + 0.9 * 4 / 17 + 0.8 * 1 / 17, 2)"
   ]
  },
  {
   "cell_type": "code",
   "execution_count": null,
   "id": "0d5e5f81",
   "metadata": {},
   "outputs": [],
   "source": []
  },
  {
   "cell_type": "markdown",
   "id": "88f4b98c",
   "metadata": {},
   "source": [
    "### Задание 2.3\n",
    "\n",
    "Из 40 снайперов 18 попадает в цель с вероятностью 0,9, 8 — с вероятностью 0,4 и 14 – с вероятностью 0,7. Случайно выбранный снайпер произвел выстрел, поразив цель. Мы хотим вычислить, снайпер из какой группы наиболее вероятно совершил этот выстрел. \n",
    "\n",
    "В ответ запишите наибольшую вероятность, округленную до тысячных. В качестве разделителя используйте точку."
   ]
  },
  {
   "cell_type": "code",
   "execution_count": 15,
   "id": "5a6e7fff",
   "metadata": {},
   "outputs": [
    {
     "data": {
      "text/plain": [
       "0.73"
      ]
     },
     "execution_count": 15,
     "metadata": {},
     "output_type": "execute_result"
    }
   ],
   "source": [
    "P_total = 0.9 * 18 / 40 + 0.4 * 8 / 40 + 0.7 * 14 / 40\n",
    "P_total"
   ]
  },
  {
   "cell_type": "code",
   "execution_count": 16,
   "id": "1c220727",
   "metadata": {},
   "outputs": [
    {
     "data": {
      "text/plain": [
       "(0.555, 0.11, 0.336)"
      ]
     },
     "execution_count": 16,
     "metadata": {},
     "output_type": "execute_result"
    }
   ],
   "source": [
    "p_first = round((0.9 * 18 / 40) / P_total, 3)\n",
    "p_second = round((0.4 * 8 / 40) / P_total, 3)\n",
    "p_third = round((0.7 * 14 / 40) / P_total, 3)\n",
    "p_first, p_second, p_third"
   ]
  },
  {
   "cell_type": "code",
   "execution_count": null,
   "id": "554f245f",
   "metadata": {},
   "outputs": [],
   "source": []
  },
  {
   "cell_type": "markdown",
   "id": "813ff0fd",
   "metadata": {},
   "source": [
    "### Задание 2.4\n",
    "\n",
    "Есть 4 кубика. На трех из них окрашена белым половина граней, а на четвертом кубике всего одна грань из шести белая. Наудачу выбранный кубик подбрасывается семь раз. Найти вероятность того, что был выбран четвертый кубик, если при семи подбрасываниях белая грань выпала ровно один раз.  Ответ округлите до тысячных. Используйте точку в качестве десятичного разделителя."
   ]
  },
  {
   "cell_type": "code",
   "execution_count": 17,
   "id": "9dbed437",
   "metadata": {},
   "outputs": [
    {
     "data": {
      "text/plain": [
       "0.0546875"
      ]
     },
     "execution_count": 17,
     "metadata": {},
     "output_type": "execute_result"
    }
   ],
   "source": [
    "p7_first = bino_koef(7, 1) * 0.5**1 * 0.5**(7-1)\n",
    "p7_first"
   ]
  },
  {
   "cell_type": "code",
   "execution_count": 18,
   "id": "48028b91",
   "metadata": {},
   "outputs": [
    {
     "data": {
      "text/plain": [
       "0.39071430612711483"
      ]
     },
     "execution_count": 18,
     "metadata": {},
     "output_type": "execute_result"
    }
   ],
   "source": [
    "p7_fourth = bino_koef(7, 1) * (1/6)**1 * (5/6)**(7-1)\n",
    "p7_fourth"
   ]
  },
  {
   "cell_type": "code",
   "execution_count": 19,
   "id": "f0b016d2",
   "metadata": {},
   "outputs": [
    {
     "data": {
      "text/plain": [
       "0.704"
      ]
     },
     "execution_count": 19,
     "metadata": {},
     "output_type": "execute_result"
    }
   ],
   "source": [
    "round(p7_fourth * 1/4 / (p7_fourth * 1/4 + p7_first * 3/4), 3)"
   ]
  },
  {
   "cell_type": "code",
   "execution_count": null,
   "id": "a662bd33",
   "metadata": {},
   "outputs": [],
   "source": []
  },
  {
   "cell_type": "markdown",
   "id": "c7f20ea2",
   "metadata": {},
   "source": [
    "### Задание 2.5\n",
    "\n",
    "На гитхабе лежит 12 скриптов, написанных аналитиком №1, 20 скриптов — написанных аналитиком №2 и 18 скриптов — написанных аналитиком №3. Вероятность того, что скрипт, написанный аналитиком №1, работает  без ошибок, равна 0,9; для скриптов, написанных аналитиками  №2 и №3, эти вероятности соответственно равны 0,6 и 0,9.\n",
    "\n",
    "Нужно найти вероятность того, что случайно взятый скрипт будет работать без ошибок. В ответ запишите число, округленное до сотых. В качестве десятичного разделителя используйте точку."
   ]
  },
  {
   "cell_type": "code",
   "execution_count": 20,
   "id": "f985c339",
   "metadata": {},
   "outputs": [
    {
     "data": {
      "text/plain": [
       "0.78"
      ]
     },
     "execution_count": 20,
     "metadata": {},
     "output_type": "execute_result"
    }
   ],
   "source": [
    "round(0.9*12/50 + 0.6*20/50 + 0.9*18/50, 2)"
   ]
  },
  {
   "cell_type": "code",
   "execution_count": null,
   "id": "a6eb43ff",
   "metadata": {},
   "outputs": [],
   "source": []
  },
  {
   "cell_type": "markdown",
   "id": "0a46e572",
   "metadata": {},
   "source": [
    "### Задание 2.6\n",
    "\n",
    "Известно, что около 60% всех людей в городе болеют заболеванием А. Для определения того, заболел человек или нет, проводится тест, точность которого составляет 99%. Вы получили положительный тест, какова вероятность того, что вы реально больны?\n",
    "\n",
    "Округлите ответ до тысячных, в качестве десятичного раделителя используйте точку."
   ]
  },
  {
   "cell_type": "code",
   "execution_count": 21,
   "id": "a23edf87",
   "metadata": {},
   "outputs": [
    {
     "data": {
      "text/plain": [
       "0.993"
      ]
     },
     "execution_count": 21,
     "metadata": {},
     "output_type": "execute_result"
    }
   ],
   "source": [
    "round(0.6 * 0.99 / (0.6 * 0.99 + 0.4*0.01), 3)"
   ]
  },
  {
   "cell_type": "code",
   "execution_count": null,
   "id": "60baeb33",
   "metadata": {},
   "outputs": [],
   "source": []
  },
  {
   "cell_type": "markdown",
   "id": "7fb69ac5",
   "metadata": {},
   "source": [
    "### Задание 2.7\n",
    "\n",
    "Три фабрики производят лампочки. Фабрика А производит 20% всех лампочек, 50% лампочек производится на фабрике В и оставшиеся 30% на фабрике С. 2% лампочек, произведенных на фабрике А, 1% лампочек, произведенных на фабрике В, и 3% лампочек, произведенных на фабрике С, являются бракованными.На рынке наугад выбирается лампочка и оказывается бракованной. Какова вероятность того, что эта лампочка была произведена на заводе B?\n",
    "\n",
    "Ответ округлите до тысячных, в качестве разделителя  используйте точку."
   ]
  },
  {
   "cell_type": "code",
   "execution_count": 22,
   "id": "9f411afa",
   "metadata": {},
   "outputs": [
    {
     "data": {
      "text/plain": [
       "0.278"
      ]
     },
     "execution_count": 22,
     "metadata": {},
     "output_type": "execute_result"
    }
   ],
   "source": [
    "round(0.5*0.01 / (0.5*0.01 + 0.2*0.02 + 0.3*0.03), 3)"
   ]
  },
  {
   "cell_type": "markdown",
   "id": "f795120e",
   "metadata": {},
   "source": []
  },
  {
   "cell_type": "markdown",
   "id": "5687fce8",
   "metadata": {},
   "source": [
    "### Задание 2.8\n",
    "\n",
    "Система РЛС (радиолокационная система) может обнаружить присутствие самолета в 98% случаев. Однако если в зоне действия радара нет самолета, система все равно сообщает (ложно), что самолет присутствует, в 5% случаев. В любой момент времени вероятность того, что самолет находится в зоне действия радара, составляет 7%.Какова вероятность того, что самолет находится в зоне действия радара, учитывая, что на радаре нет самолета?\n",
    "\n",
    "Ответ округлите до десятитысячных, в качестве десятичного разделителя используйте точку."
   ]
  },
  {
   "cell_type": "code",
   "execution_count": 23,
   "id": "7abaf3c2",
   "metadata": {},
   "outputs": [
    {
     "data": {
      "text/plain": [
       "0.0016"
      ]
     },
     "execution_count": 23,
     "metadata": {},
     "output_type": "execute_result"
    }
   ],
   "source": [
    "round(0.07*0.02 / (0.07*0.02 + 0.93*0.95), 4)"
   ]
  },
  {
   "cell_type": "code",
   "execution_count": null,
   "id": "5e11f1bb",
   "metadata": {},
   "outputs": [],
   "source": []
  },
  {
   "cell_type": "markdown",
   "id": "5bd4f77f",
   "metadata": {},
   "source": [
    "### Задание 2.9\n",
    "\n",
    "Система РЛС (радиолокационная система) может обнаружить присутствие самолета в 98% случаев. Однако если в зоне действия радара нет самолета, система все равно сообщает (ложно), что самолет присутствует, в 5% случаев. В любой момент времени вероятность того, что самолет находится в зоне действия радара, составляет 7%.Какова вероятность того, что самолет находится в зоне действия радара, учитывая, что радар показывает наличие самолета?\n",
    "\n",
    "Ответ округлите до тысячных, в качестве десятичного разделителя используйте точку."
   ]
  },
  {
   "cell_type": "code",
   "execution_count": 24,
   "id": "b963be48",
   "metadata": {},
   "outputs": [
    {
     "data": {
      "text/plain": [
       "0.596"
      ]
     },
     "execution_count": 24,
     "metadata": {},
     "output_type": "execute_result"
    }
   ],
   "source": [
    "round(0.07*0.98 / (0.07*0.98 + 0.93*0.05), 4)"
   ]
  },
  {
   "cell_type": "code",
   "execution_count": null,
   "id": "7e87c234",
   "metadata": {},
   "outputs": [],
   "source": []
  },
  {
   "cell_type": "markdown",
   "id": "90dd327f",
   "metadata": {},
   "source": [
    "### Задание 2.10\n",
    "\n",
    "Передатчик аварийного локатора самолета (ELT) - это устройство, предназначенное для передачи сигнала в случае аварии. Компания A производит 80% всех ELT на рынке, компания B - 15%, а компания C - остальные 5%. Уровень дефектности ELT, произведенных компанией A, составляет 4%, компанией B - 6%, а компанией C - 9%. Случайно выбранный ELT был протестирован и оказался бракованным. Найдите вероятность того, что он был произведен компанией A.\n",
    "\n",
    "Округлите ответ до тысячных, в качестве десятичного разделителя используйте точку."
   ]
  },
  {
   "cell_type": "code",
   "execution_count": 25,
   "id": "aaeb98f5",
   "metadata": {},
   "outputs": [
    {
     "data": {
      "text/plain": [
       "0.703"
      ]
     },
     "execution_count": 25,
     "metadata": {},
     "output_type": "execute_result"
    }
   ],
   "source": [
    "round(0.80*0.04 / (0.80*0.04 + 0.15*0.06 + 0.05*0.09), 3)"
   ]
  }
 ],
 "metadata": {
  "kernelspec": {
   "display_name": "Python 3 (ipykernel)",
   "language": "python",
   "name": "python3"
  },
  "language_info": {
   "codemirror_mode": {
    "name": "ipython",
    "version": 3
   },
   "file_extension": ".py",
   "mimetype": "text/x-python",
   "name": "python",
   "nbconvert_exporter": "python",
   "pygments_lexer": "ipython3",
   "version": "3.9.12"
  }
 },
 "nbformat": 4,
 "nbformat_minor": 5
}
