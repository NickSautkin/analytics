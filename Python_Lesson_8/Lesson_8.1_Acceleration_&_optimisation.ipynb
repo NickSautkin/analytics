{
 "cells": [
  {
   "cell_type": "code",
   "execution_count": 84,
   "id": "d9238bc8",
   "metadata": {},
   "outputs": [],
   "source": [
    "import pandas as pd\n",
    "import numpy as np\n",
    "import seaborn as sns\n",
    "import plotly.express as px\n",
    "import matplotlib.pyplot as plt\n",
    "%matplotlib inline\n"
   ]
  },
  {
   "cell_type": "code",
   "execution_count": 2,
   "id": "7b19f2d1",
   "metadata": {},
   "outputs": [],
   "source": [
    "# Представьте, что вы аналитик в сервисе такси. Ваша задача – написать функцию haversine для подсчета расстояния\n",
    "# между пунктами отправления и прибытия и, используя  pd.iterrows(), создать колонку distance с подсчитанным расстоянием.\n",
    "# Более подробно ознакомиться с формулой можно здесь.\n",
    "\n",
    "# Датасет, с которым мы будем работать – данные о поездках в Нью-Йорке. Он уже сохранен в переменную nyc, \n",
    "# но вы можете самостоятельно подгрузить его отсюда и потренироваться у себя в ноутбуке."
   ]
  },
  {
   "cell_type": "code",
   "execution_count": 30,
   "id": "34797ebd",
   "metadata": {
    "scrolled": false
   },
   "outputs": [
    {
     "data": {
      "text/html": [
       "<div>\n",
       "<style scoped>\n",
       "    .dataframe tbody tr th:only-of-type {\n",
       "        vertical-align: middle;\n",
       "    }\n",
       "\n",
       "    .dataframe tbody tr th {\n",
       "        vertical-align: top;\n",
       "    }\n",
       "\n",
       "    .dataframe thead th {\n",
       "        text-align: right;\n",
       "    }\n",
       "</style>\n",
       "<table border=\"1\" class=\"dataframe\">\n",
       "  <thead>\n",
       "    <tr style=\"text-align: right;\">\n",
       "      <th></th>\n",
       "      <th>key</th>\n",
       "      <th>fare_amount</th>\n",
       "      <th>pickup_datetime</th>\n",
       "      <th>pickup_longitude</th>\n",
       "      <th>pickup_latitude</th>\n",
       "      <th>dropoff_longitude</th>\n",
       "      <th>dropoff_latitude</th>\n",
       "      <th>passenger_count</th>\n",
       "    </tr>\n",
       "  </thead>\n",
       "  <tbody>\n",
       "    <tr>\n",
       "      <th>0</th>\n",
       "      <td>2009-06-15 17:26:21.0000001</td>\n",
       "      <td>4.5</td>\n",
       "      <td>2009-06-15 17:26:21 UTC</td>\n",
       "      <td>-73.844311</td>\n",
       "      <td>40.721319</td>\n",
       "      <td>-73.841610</td>\n",
       "      <td>40.712278</td>\n",
       "      <td>1</td>\n",
       "    </tr>\n",
       "    <tr>\n",
       "      <th>1</th>\n",
       "      <td>2010-01-05 16:52:16.0000002</td>\n",
       "      <td>16.9</td>\n",
       "      <td>2010-01-05 16:52:16 UTC</td>\n",
       "      <td>-74.016048</td>\n",
       "      <td>40.711303</td>\n",
       "      <td>-73.979268</td>\n",
       "      <td>40.782004</td>\n",
       "      <td>1</td>\n",
       "    </tr>\n",
       "    <tr>\n",
       "      <th>2</th>\n",
       "      <td>2011-08-18 00:35:00.00000049</td>\n",
       "      <td>5.7</td>\n",
       "      <td>2011-08-18 00:35:00 UTC</td>\n",
       "      <td>-73.982738</td>\n",
       "      <td>40.761270</td>\n",
       "      <td>-73.991242</td>\n",
       "      <td>40.750562</td>\n",
       "      <td>2</td>\n",
       "    </tr>\n",
       "  </tbody>\n",
       "</table>\n",
       "</div>"
      ],
      "text/plain": [
       "                            key  fare_amount          pickup_datetime  \\\n",
       "0   2009-06-15 17:26:21.0000001          4.5  2009-06-15 17:26:21 UTC   \n",
       "1   2010-01-05 16:52:16.0000002         16.9  2010-01-05 16:52:16 UTC   \n",
       "2  2011-08-18 00:35:00.00000049          5.7  2011-08-18 00:35:00 UTC   \n",
       "\n",
       "   pickup_longitude  pickup_latitude  dropoff_longitude  dropoff_latitude  \\\n",
       "0        -73.844311        40.721319         -73.841610         40.712278   \n",
       "1        -74.016048        40.711303         -73.979268         40.782004   \n",
       "2        -73.982738        40.761270         -73.991242         40.750562   \n",
       "\n",
       "   passenger_count  \n",
       "0                1  \n",
       "1                1  \n",
       "2                2  "
      ]
     },
     "execution_count": 30,
     "metadata": {},
     "output_type": "execute_result"
    }
   ],
   "source": [
    "nyc = pd.read_csv('nyc.csv.zip')\n",
    "nyc[:3]"
   ]
  },
  {
   "cell_type": "code",
   "execution_count": 4,
   "id": "c3576c12",
   "metadata": {},
   "outputs": [],
   "source": [
    "# 2 * r * math.asin(((math.sin((fi2 - fi1) / 2))**2 + math.cos(fi1) * math.cos(fi2)*(math.sin((la2 - la1) / 2))**2)**0.5)"
   ]
  },
  {
   "cell_type": "code",
   "execution_count": 5,
   "id": "70eac714",
   "metadata": {},
   "outputs": [],
   "source": [
    "def haversine(fi1, fi2, la1, la2, r = 6371):\n",
    "    fi1 = np.radians(fi1)\n",
    "    fi2 = np.radians(fi2)\n",
    "    la1 = np.radians(la1)\n",
    "    la2 = np.radians(la2)\n",
    "    distance = 2 * r * np.arcsin(((np.sin((fi2 - fi1) / 2))**2 + np.cos(fi1) * np.cos(fi2)*(np.sin((la2 - la1) / 2))**2)**0.5)\n",
    "    return(distance)"
   ]
  },
  {
   "cell_type": "code",
   "execution_count": 6,
   "id": "e55f0649",
   "metadata": {},
   "outputs": [
    {
     "name": "stdout",
     "output_type": "stream",
     "text": [
      "1.91 s ± 10.6 ms per loop (mean ± std. dev. of 7 runs, 1 loop each)\n"
     ]
    }
   ],
   "source": [
    "%%timeit\n",
    "dists = []\n",
    "for i, row in  nyc.iterrows():\n",
    "    dists.append(haversine(row['pickup_latitude'], row['dropoff_latitude'], row['pickup_longitude'], row['dropoff_longitude'])) \n",
    "nyc['distance'] = dists"
   ]
  },
  {
   "cell_type": "code",
   "execution_count": 7,
   "id": "ac861956",
   "metadata": {},
   "outputs": [],
   "source": [
    "# Давайте попробуем еще один метод, pd.itertuples, который на каждой итерации возвращает именованный кортеж (named tuple) \n",
    "# для каждой строки датафрейма. Параметр index по умолчанию равен True, поэтому первым элементом кортежа следует индекс, \n",
    "# далее — содержимое строки. \n",
    "# Задача: проделайте ту же операцию, что и в предыдущем шаге, но уже используя pd.itertuples(), а затем сравните \n",
    "# время выполнения."
   ]
  },
  {
   "cell_type": "code",
   "execution_count": 8,
   "id": "8a4bf0aa",
   "metadata": {},
   "outputs": [
    {
     "name": "stdout",
     "output_type": "stream",
     "text": [
      "445 ms ± 5.5 ms per loop (mean ± std. dev. of 7 runs, 1 loop each)\n"
     ]
    }
   ],
   "source": [
    "%%timeit\n",
    "dists = []\n",
    "for row in  nyc.itertuples():\n",
    "    dists.append(haversine(row.pickup_latitude, row.dropoff_latitude, row.pickup_longitude, row.dropoff_longitude)) \n",
    "nyc['distance'] = dists"
   ]
  },
  {
   "cell_type": "code",
   "execution_count": 9,
   "id": "a7a4dc81",
   "metadata": {},
   "outputs": [],
   "source": [
    "# Еще один часто используемый метод pd.apply() применяет заданную функцию вдоль определенной оси \n",
    "# (axis=0 – строки; axis=1 – столбцы), и является более эффективным способом, чем pd.iterrows() за счет \n",
    "# использования внутренних оптимизаций в pandas. Тем не менее, все равно подразумевает итерацию по всем рядам.\n",
    "\n",
    "# В столбец distance датафрейма nyc сохраните результат подсчета расстояния между точками отправки и прибытия, \n",
    "# используя написанную ранее функцию. В переменную longest сохраните самое большое расстояние. \n",
    "# Не забудьте проверить скорость выполнения операции (в код включать не нужно)! "
   ]
  },
  {
   "cell_type": "code",
   "execution_count": 10,
   "id": "6e3f2074",
   "metadata": {},
   "outputs": [
    {
     "name": "stdout",
     "output_type": "stream",
     "text": [
      "809 ms ± 5.32 ms per loop (mean ± std. dev. of 7 runs, 1 loop each)\n"
     ]
    }
   ],
   "source": [
    "%%timeit\n",
    "nyc['distance'] = nyc[['pickup_latitude', 'dropoff_latitude', 'pickup_longitude', 'dropoff_longitude']].apply(lambda row: haversine(row[0], row[1], row[2], row[3]), axis=1)\n",
    "longest = nyc.distance.max()"
   ]
  },
  {
   "cell_type": "code",
   "execution_count": 11,
   "id": "fa4afb55",
   "metadata": {},
   "outputs": [],
   "source": [
    "# С помощью векторизации можно получить ещё большее ускорение, значительно уменьшив количество итераций. \n",
    "# Убедимся, что векторизованные операции работают намного быстрее. Создайте функцию для подсчета расстояния haversine, \n",
    "# описанную в первом шаге, и примените её к датасету nyc. Результат сохраните в колонку distance. "
   ]
  },
  {
   "cell_type": "code",
   "execution_count": 12,
   "id": "67737a46",
   "metadata": {},
   "outputs": [
    {
     "name": "stdout",
     "output_type": "stream",
     "text": [
      "3.46 ms ± 98.2 µs per loop (mean ± std. dev. of 7 runs, 100 loops each)\n"
     ]
    }
   ],
   "source": [
    "%%timeit\n",
    "nyc['distance'] = haversine(nyc['pickup_latitude'], nyc['dropoff_latitude'], nyc['pickup_longitude'], nyc['dropoff_longitude'])"
   ]
  },
  {
   "cell_type": "code",
   "execution_count": 13,
   "id": "f4f001dd",
   "metadata": {},
   "outputs": [],
   "source": [
    "# В предыдущем шаге мы передавали функции колонки формата Series, с чем связаны дополнительные вычислительные затраты, \n",
    "# например, индексирование и проверка типа данных. Чтобы этого избежать, в качестве аргументов функции можно передать \n",
    "# всё те же необходимые колонки, дополнительно указав .values, чтобы из Series получить массив NumPy (numpy array). \n",
    "# В таком случае действия будут выполняться непосредственно над ndarrays. Такой способ можно использовать, \n",
    "# когда отсутствие индексов и пр. не приведет к нарушению работы применяемой функции. "
   ]
  },
  {
   "cell_type": "code",
   "execution_count": 14,
   "id": "04d5187c",
   "metadata": {},
   "outputs": [
    {
     "name": "stdout",
     "output_type": "stream",
     "text": [
      "2.48 ms ± 68.6 µs per loop (mean ± std. dev. of 7 runs, 100 loops each)\n"
     ]
    }
   ],
   "source": [
    "%%timeit\n",
    "nyc['distance'] = haversine(nyc['pickup_latitude'].values, nyc['dropoff_latitude'].values, nyc['pickup_longitude'].values, nyc['dropoff_longitude'].values)"
   ]
  },
  {
   "cell_type": "code",
   "execution_count": 116,
   "id": "da9695f8",
   "metadata": {},
   "outputs": [],
   "source": [
    "nyc['distance'] = haversine(nyc['pickup_latitude'].values, nyc['dropoff_latitude'].values, nyc['pickup_longitude'].values, nyc['dropoff_longitude'].values)"
   ]
  },
  {
   "cell_type": "code",
   "execution_count": 32,
   "id": "ee411f69",
   "metadata": {},
   "outputs": [],
   "source": [
    "# Посмотрите, есть ли еще кейсы, где в качестве хотя бы одной из координат пункта назначения стоят нули, \n",
    "# и в качестве ответа укажите количество таких случаев."
   ]
  },
  {
   "cell_type": "code",
   "execution_count": 69,
   "id": "51dfdc22",
   "metadata": {
    "scrolled": true
   },
   "outputs": [
    {
     "data": {
      "text/plain": [
       "958"
      ]
     },
     "execution_count": 69,
     "metadata": {},
     "output_type": "execute_result"
    }
   ],
   "source": [
    "nyc[['dropoff_longitude', 'dropoff_latitude']].eq(0).sum(1).gt(0).sum()"
   ]
  },
  {
   "cell_type": "code",
   "execution_count": 70,
   "id": "dae606dc",
   "metadata": {},
   "outputs": [],
   "source": [
    "# Постройте графики распределения переменных pickup_latitude, pickup_longitude, dropoff_latitude, dropoff_longitude, \n",
    "# и для каждой переменной выберите только один наиболее подходящий вариант для дальнейшей фильтрации данных."
   ]
  },
  {
   "cell_type": "code",
   "execution_count": 112,
   "id": "f67493d0",
   "metadata": {},
   "outputs": [
    {
     "name": "stderr",
     "output_type": "stream",
     "text": [
      "C:\\Users\\sautk\\anaconda3\\lib\\site-packages\\seaborn\\_decorators.py:36: FutureWarning: Pass the following variable as a keyword arg: x. From version 0.12, the only valid positional argument will be `data`, and passing other arguments without an explicit keyword will result in an error or misinterpretation.\n",
      "  warnings.warn(\n",
      "C:\\Users\\sautk\\anaconda3\\lib\\site-packages\\seaborn\\_decorators.py:36: FutureWarning: Pass the following variable as a keyword arg: x. From version 0.12, the only valid positional argument will be `data`, and passing other arguments without an explicit keyword will result in an error or misinterpretation.\n",
      "  warnings.warn(\n",
      "C:\\Users\\sautk\\anaconda3\\lib\\site-packages\\seaborn\\_decorators.py:36: FutureWarning: Pass the following variable as a keyword arg: x. From version 0.12, the only valid positional argument will be `data`, and passing other arguments without an explicit keyword will result in an error or misinterpretation.\n",
      "  warnings.warn(\n",
      "C:\\Users\\sautk\\anaconda3\\lib\\site-packages\\seaborn\\_decorators.py:36: FutureWarning: Pass the following variable as a keyword arg: x. From version 0.12, the only valid positional argument will be `data`, and passing other arguments without an explicit keyword will result in an error or misinterpretation.\n",
      "  warnings.warn(\n"
     ]
    },
    {
     "data": {
      "text/plain": [
       "<AxesSubplot:xlabel='dropoff_latitude'>"
      ]
     },
     "execution_count": 112,
     "metadata": {},
     "output_type": "execute_result"
    },
    {
     "data": {
      "image/png": "[encoded data removed]",
      "text/plain": [
       "<Figure size 1440x864 with 4 Axes>"
      ]
     },
     "metadata": {},
     "output_type": "display_data"
    }
   ],
   "source": [
    "fig, axes = plt.subplots(nrows=2, ncols=2, figsize=(20, 12))\n",
    "sns.boxplot(nyc.pickup_longitude, ax = axes.flatten()[0])\n",
    "sns.boxplot(nyc.pickup_latitude, ax = axes.flatten()[1])\n",
    "sns.boxplot(nyc.dropoff_longitude, ax = axes.flatten()[2])\n",
    "sns.boxplot(nyc.dropoff_latitude, ax = axes.flatten()[3])\n",
    "plt.tight_layout()"
   ]
  },
  {
   "cell_type": "code",
   "execution_count": null,
   "id": "212c13dd",
   "metadata": {},
   "outputs": [],
   "source": [
    "# Критерии для фильтрации выбраны, остался последний шаг: отфильтровать имеющиеся данные и наконец-то найти самую \n",
    "# дальнюю поездку.\n",
    "# Для фильтрации используйте условия из предыдущего степа, а также добавьте еще одно ограничение для переменной distance. \n",
    "# Предположим, максимальная удаленность пунктов друг от друга не должна превышать 50 километров, иначе такой заказ \n",
    "# не будет принят системой, а наличие подобных результатов в таблице будет считаться ошибкой.\n",
    "# В качестве ответа укажите сумму, которую заплатил пассажир, проехавший наибольшее расстояние.\n",
    "# 10 < pickup_latitude < 120\n",
    "# pickup_longitude < -60\n",
    "# 10 < dropoff_latitude\n",
    "# dropoff_longitude < -60"
   ]
  },
  {
   "cell_type": "code",
   "execution_count": 117,
   "id": "5b4171b9",
   "metadata": {},
   "outputs": [
    {
     "data": {
      "text/html": [
       "<div>\n",
       "<style scoped>\n",
       "    .dataframe tbody tr th:only-of-type {\n",
       "        vertical-align: middle;\n",
       "    }\n",
       "\n",
       "    .dataframe tbody tr th {\n",
       "        vertical-align: top;\n",
       "    }\n",
       "\n",
       "    .dataframe thead th {\n",
       "        text-align: right;\n",
       "    }\n",
       "</style>\n",
       "<table border=\"1\" class=\"dataframe\">\n",
       "  <thead>\n",
       "    <tr style=\"text-align: right;\">\n",
       "      <th></th>\n",
       "      <th>key</th>\n",
       "      <th>fare_amount</th>\n",
       "      <th>pickup_datetime</th>\n",
       "      <th>pickup_longitude</th>\n",
       "      <th>pickup_latitude</th>\n",
       "      <th>dropoff_longitude</th>\n",
       "      <th>dropoff_latitude</th>\n",
       "      <th>passenger_count</th>\n",
       "      <th>distance</th>\n",
       "    </tr>\n",
       "  </thead>\n",
       "  <tbody>\n",
       "    <tr>\n",
       "      <th>0</th>\n",
       "      <td>2009-06-15 17:26:21.0000001</td>\n",
       "      <td>4.5</td>\n",
       "      <td>2009-06-15 17:26:21 UTC</td>\n",
       "      <td>-73.844311</td>\n",
       "      <td>40.721319</td>\n",
       "      <td>-73.841610</td>\n",
       "      <td>40.712278</td>\n",
       "      <td>1</td>\n",
       "      <td>1.030764</td>\n",
       "    </tr>\n",
       "    <tr>\n",
       "      <th>1</th>\n",
       "      <td>2010-01-05 16:52:16.0000002</td>\n",
       "      <td>16.9</td>\n",
       "      <td>2010-01-05 16:52:16 UTC</td>\n",
       "      <td>-74.016048</td>\n",
       "      <td>40.711303</td>\n",
       "      <td>-73.979268</td>\n",
       "      <td>40.782004</td>\n",
       "      <td>1</td>\n",
       "      <td>8.450134</td>\n",
       "    </tr>\n",
       "  </tbody>\n",
       "</table>\n",
       "</div>"
      ],
      "text/plain": [
       "                           key  fare_amount          pickup_datetime  \\\n",
       "0  2009-06-15 17:26:21.0000001          4.5  2009-06-15 17:26:21 UTC   \n",
       "1  2010-01-05 16:52:16.0000002         16.9  2010-01-05 16:52:16 UTC   \n",
       "\n",
       "   pickup_longitude  pickup_latitude  dropoff_longitude  dropoff_latitude  \\\n",
       "0        -73.844311        40.721319         -73.841610         40.712278   \n",
       "1        -74.016048        40.711303         -73.979268         40.782004   \n",
       "\n",
       "   passenger_count  distance  \n",
       "0                1  1.030764  \n",
       "1                1  8.450134  "
      ]
     },
     "execution_count": 117,
     "metadata": {},
     "output_type": "execute_result"
    }
   ],
   "source": [
    "nyc[:2]"
   ]
  },
  {
   "cell_type": "code",
   "execution_count": 138,
   "id": "cf98a52f",
   "metadata": {},
   "outputs": [
    {
     "data": {
      "text/html": [
       "<div>\n",
       "<style scoped>\n",
       "    .dataframe tbody tr th:only-of-type {\n",
       "        vertical-align: middle;\n",
       "    }\n",
       "\n",
       "    .dataframe tbody tr th {\n",
       "        vertical-align: top;\n",
       "    }\n",
       "\n",
       "    .dataframe thead th {\n",
       "        text-align: right;\n",
       "    }\n",
       "</style>\n",
       "<table border=\"1\" class=\"dataframe\">\n",
       "  <thead>\n",
       "    <tr style=\"text-align: right;\">\n",
       "      <th></th>\n",
       "      <th>key</th>\n",
       "      <th>fare_amount</th>\n",
       "      <th>pickup_datetime</th>\n",
       "      <th>pickup_longitude</th>\n",
       "      <th>pickup_latitude</th>\n",
       "      <th>dropoff_longitude</th>\n",
       "      <th>dropoff_latitude</th>\n",
       "      <th>passenger_count</th>\n",
       "      <th>distance</th>\n",
       "    </tr>\n",
       "  </thead>\n",
       "  <tbody>\n",
       "    <tr>\n",
       "      <th>33502</th>\n",
       "      <td>2014-02-22 02:44:00.00000052</td>\n",
       "      <td>136.0</td>\n",
       "      <td>2014-02-22 02:44:00 UTC</td>\n",
       "      <td>-73.98954</td>\n",
       "      <td>40.757032</td>\n",
       "      <td>-73.86058</td>\n",
       "      <td>41.147487</td>\n",
       "      <td>1</td>\n",
       "      <td>44.746988</td>\n",
       "    </tr>\n",
       "  </tbody>\n",
       "</table>\n",
       "</div>"
      ],
      "text/plain": [
       "                                key  fare_amount          pickup_datetime  \\\n",
       "33502  2014-02-22 02:44:00.00000052        136.0  2014-02-22 02:44:00 UTC   \n",
       "\n",
       "       pickup_longitude  pickup_latitude  dropoff_longitude  dropoff_latitude  \\\n",
       "33502         -73.98954        40.757032          -73.86058         41.147487   \n",
       "\n",
       "       passenger_count   distance  \n",
       "33502                1  44.746988  "
      ]
     },
     "execution_count": 138,
     "metadata": {},
     "output_type": "execute_result"
    }
   ],
   "source": [
    "nyc_filtered = nyc.query('10 < pickup_latitude < 120 and \\\n",
    "                    pickup_longitude < -60 and \\\n",
    "                    10 < dropoff_latitude and \\\n",
    "                    dropoff_longitude < -60 and \\\n",
    "                    distance <= 50') \\\n",
    "                    .sort_values('distance', ascending = False)\n",
    "nyc_filtered.query('distance == distance.max()')"
   ]
  },
  {
   "cell_type": "code",
   "execution_count": null,
   "id": "a8703a62",
   "metadata": {},
   "outputs": [],
   "source": []
  }
 ],
 "metadata": {
  "kernelspec": {
   "display_name": "Python 3 (ipykernel)",
   "language": "python",
   "name": "python3"
  },
  "language_info": {
   "codemirror_mode": {
    "name": "ipython",
    "version": 3
   },
   "file_extension": ".py",
   "mimetype": "text/x-python",
   "name": "python",
   "nbconvert_exporter": "python",
   "pygments_lexer": "ipython3",
   "version": "3.9.12"
  }
 },
 "nbformat": 4,
 "nbformat_minor": 5
}
