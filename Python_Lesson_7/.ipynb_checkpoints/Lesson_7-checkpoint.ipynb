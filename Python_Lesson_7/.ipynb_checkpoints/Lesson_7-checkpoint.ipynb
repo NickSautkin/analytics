{
 "cells": [
  {
   "cell_type": "code",
   "execution_count": 1,
   "id": "fbfa894b",
   "metadata": {},
   "outputs": [],
   "source": [
    "import pandas as pd\n",
    "import os\n",
    "import numpy as np\n",
    "import re\n",
    "import seaborn as sns\n",
    "import matplotlib.pyplot as plt\n",
    "import plotly.express as px\n",
    "%matplotlib inline\n",
    "import requests\n",
    "from io import BytesIO"
   ]
  },
  {
   "cell_type": "code",
   "execution_count": 2,
   "id": "d9238bc8",
   "metadata": {},
   "outputs": [],
   "source": [
    "# Считайте данные из Google Sheets, которые находятся по этой ссылке при помощи библиотеки requests. \n",
    "# Посчитайте процент мужчин среди всех посетителей сайта, округлите ответ до целых."
   ]
  },
  {
   "cell_type": "code",
   "execution_count": 3,
   "id": "a5083745",
   "metadata": {},
   "outputs": [],
   "source": [
    "req = requests.get('https://docs.google.com/spreadsheets/d/1e3PRXmMNXo9AZZnaol1aHgYxtH6KYaCDymEQlK6jaO8/export?format=csv')\n",
    "data = req.content\n",
    "\n",
    "df = pd.read_csv(BytesIO(data))"
   ]
  },
  {
   "cell_type": "code",
   "execution_count": 5,
   "id": "a70dc7a7",
   "metadata": {},
   "outputs": [
    {
     "data": {
      "text/plain": [
       "1    41.0\n",
       "Name: users, dtype: float64"
      ]
     },
     "execution_count": 5,
     "metadata": {},
     "output_type": "execute_result"
    }
   ],
   "source": [
    "np.round(df[df.gender == 'male'].users / df.users.sum() * 100, 0)\n"
   ]
  },
  {
   "cell_type": "code",
   "execution_count": 6,
   "id": "bad9f8e0",
   "metadata": {},
   "outputs": [
    {
     "data": {
      "text/plain": [
       "0    0\n",
       "1    0\n",
       "2    1\n",
       "dtype: int32"
      ]
     },
     "execution_count": 6,
     "metadata": {},
     "output_type": "execute_result"
    }
   ],
   "source": [
    "# Скачайте файл с данными посещаемости сайта Яндекс.Метрика отсюда.\n",
    "# При помощи функции np.where создайте серию, в которую будет записываться 1, если посещения были сделаны роботами с \n",
    "# браузера, содержащего Chrome в названии, и 0 в других случаях. \n",
    "# Поместите получившуюся серию в переменную chrome_robots.\n",
    "df_yandex =  pd.read_csv('7_browser.csv')\n",
    "chrome_robots = pd.Series(np.where((df_yandex.browser.str.contains('Chrome', regex=False)) & (df_yandex.user_type == 'Robots'), 1, 0))\n",
    "chrome_robots.head(3)"
   ]
  },
  {
   "cell_type": "code",
   "execution_count": null,
   "id": "4ec20638",
   "metadata": {},
   "outputs": [],
   "source": []
  },
  {
   "cell_type": "code",
   "execution_count": 7,
   "id": "57f4fada",
   "metadata": {},
   "outputs": [
    {
     "data": {
      "text/plain": [
       "11"
      ]
     },
     "execution_count": 7,
     "metadata": {},
     "output_type": "execute_result"
    }
   ],
   "source": [
    "# У вас есть датасет с данными о кликах и показах по объявлению, в котором есть пропуски. \n",
    "# Вычислите количество строк без пропусков в колонке click_type. Запишите ответ в переменную not_nan_count\n",
    "df_4th =  pd.read_csv('sample_ads.csv')\n",
    "not_nan_count = df_4th.dropna().click_type.count()\n",
    "not_nan_count"
   ]
  },
  {
   "cell_type": "code",
   "execution_count": 72,
   "id": "1fd685cf",
   "metadata": {},
   "outputs": [],
   "source": [
    "# В списке lst находятся различные элементы. Создайте список new_list и сделайте следующее:\n",
    "# при помощи конструкции try except и цикла попробуйте преобразовать каждое значение в листе в int\n",
    "# если это получилось – добавьте преобразованное значение  в список new_list\n",
    "\n",
    "lst = ['a', '6', '2', 'gfh', 'a', '56', 's', '3', '3', 'kjl', '0', 'efg ']\n",
    "new_list = []\n",
    "for i in lst:\n",
    "    try:\n",
    "        x = int(i)\n",
    "        new_list.append(x)\n",
    "    except:\n",
    "        continue"
   ]
  },
  {
   "cell_type": "code",
   "execution_count": null,
   "id": "ca572e7e",
   "metadata": {},
   "outputs": [],
   "source": []
  }
 ],
 "metadata": {
  "kernelspec": {
   "display_name": "Python 3 (ipykernel)",
   "language": "python",
   "name": "python3"
  },
  "language_info": {
   "codemirror_mode": {
    "name": "ipython",
    "version": 3
   },
   "file_extension": ".py",
   "mimetype": "text/x-python",
   "name": "python",
   "nbconvert_exporter": "python",
   "pygments_lexer": "ipython3",
   "version": "3.9.12"
  }
 },
 "nbformat": 4,
 "nbformat_minor": 5
}
