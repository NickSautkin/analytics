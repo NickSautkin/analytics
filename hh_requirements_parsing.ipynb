{
 "cells": [
  {
   "cell_type": "code",
   "execution_count": null,
   "id": "cfd1e482",
   "metadata": {},
   "outputs": [],
   "source": [
    "import json\n",
    "import pandas as pd\n",
    "import re\n",
    "from datetime import datetime\n",
    "import requests"
   ]
  },
  {
   "cell_type": "code",
   "execution_count": 94,
   "id": "2e3a3bb1",
   "metadata": {},
   "outputs": [
    {
     "data": {
      "text/html": [
       "<div>\n",
       "<style scoped>\n",
       "    .dataframe tbody tr th:only-of-type {\n",
       "        vertical-align: middle;\n",
       "    }\n",
       "\n",
       "    .dataframe tbody tr th {\n",
       "        vertical-align: top;\n",
       "    }\n",
       "\n",
       "    .dataframe thead th {\n",
       "        text-align: right;\n",
       "    }\n",
       "</style>\n",
       "<table border=\"1\" class=\"dataframe\">\n",
       "  <thead>\n",
       "    <tr style=\"text-align: right;\">\n",
       "      <th></th>\n",
       "      <th>country_id</th>\n",
       "      <th>country</th>\n",
       "      <th>city_id</th>\n",
       "      <th>city</th>\n",
       "    </tr>\n",
       "  </thead>\n",
       "  <tbody>\n",
       "    <tr>\n",
       "      <th>0</th>\n",
       "      <td>113</td>\n",
       "      <td>Россия</td>\n",
       "      <td>4228</td>\n",
       "      <td>Виловатово</td>\n",
       "    </tr>\n",
       "    <tr>\n",
       "      <th>1</th>\n",
       "      <td>113</td>\n",
       "      <td>Россия</td>\n",
       "      <td>1621</td>\n",
       "      <td>Волжск</td>\n",
       "    </tr>\n",
       "    <tr>\n",
       "      <th>2</th>\n",
       "      <td>113</td>\n",
       "      <td>Россия</td>\n",
       "      <td>1622</td>\n",
       "      <td>Звенигово</td>\n",
       "    </tr>\n",
       "  </tbody>\n",
       "</table>\n",
       "</div>"
      ],
      "text/plain": [
       "  country_id country city_id        city\n",
       "0        113  Россия    4228  Виловатово\n",
       "1        113  Россия    1621      Волжск\n",
       "2        113  Россия    1622   Звенигово"
      ]
     },
     "execution_count": 94,
     "metadata": {},
     "output_type": "execute_result"
    }
   ],
   "source": [
    "#получение списка городов с id\n",
    "\n",
    "response_json = requests.get(\n",
    "    \"https://api.hh.ru/areas\", headers={\"User-Agent\": \"Mozilla/5.0\"}).json()\n",
    "\n",
    "areas = []\n",
    "for i in response_json:\n",
    "    for k in i['areas']:\n",
    "        if len(k['areas']) != 0:\n",
    "            for j in k['areas']:\n",
    "                areas.append({\"country_id\": i['id'],\n",
    "                              \"country\": i['name'],\n",
    "                              \"city_id\": j['id'],\n",
    "                              \"city\": j['name']})\n",
    "        else:\n",
    "            areas.append({\"country_id\": i['id'],\n",
    "                          \"country\": i['name'],\n",
    "                          \"city_id\": k['id'],\n",
    "                          \"city\": k['name']})\n",
    "\n",
    "\n",
    "areas = pd.DataFrame(areas)\n",
    "areas.head(3)"
   ]
  },
  {
   "cell_type": "code",
   "execution_count": 171,
   "id": "fe826b1b",
   "metadata": {},
   "outputs": [
    {
     "data": {
      "text/html": [
       "<div>\n",
       "<style scoped>\n",
       "    .dataframe tbody tr th:only-of-type {\n",
       "        vertical-align: middle;\n",
       "    }\n",
       "\n",
       "    .dataframe tbody tr th {\n",
       "        vertical-align: top;\n",
       "    }\n",
       "\n",
       "    .dataframe thead th {\n",
       "        text-align: right;\n",
       "    }\n",
       "</style>\n",
       "<table border=\"1\" class=\"dataframe\">\n",
       "  <thead>\n",
       "    <tr style=\"text-align: right;\">\n",
       "      <th></th>\n",
       "      <th>country_id</th>\n",
       "      <th>country</th>\n",
       "      <th>city_id</th>\n",
       "      <th>city</th>\n",
       "    </tr>\n",
       "  </thead>\n",
       "  <tbody>\n",
       "    <tr>\n",
       "      <th>2083</th>\n",
       "      <td>113</td>\n",
       "      <td>Россия</td>\n",
       "      <td>1</td>\n",
       "      <td>Москва</td>\n",
       "    </tr>\n",
       "  </tbody>\n",
       "</table>\n",
       "</div>"
      ],
      "text/plain": [
       "     country_id country city_id    city\n",
       "2083        113  Россия       1  Москва"
      ]
     },
     "execution_count": 171,
     "metadata": {},
     "output_type": "execute_result"
    }
   ],
   "source": [
    "areas.query('city.str.contains(\"Москв\")')"
   ]
  },
  {
   "cell_type": "markdown",
   "id": "d0baf6ed",
   "metadata": {},
   "source": [
    "---"
   ]
  },
  {
   "cell_type": "code",
   "execution_count": 3,
   "id": "3c9c5ad1",
   "metadata": {
    "scrolled": false
   },
   "outputs": [
    {
     "data": {
      "text/html": [
       "<div>\n",
       "<style scoped>\n",
       "    .dataframe tbody tr th:only-of-type {\n",
       "        vertical-align: middle;\n",
       "    }\n",
       "\n",
       "    .dataframe tbody tr th {\n",
       "        vertical-align: top;\n",
       "    }\n",
       "\n",
       "    .dataframe thead th {\n",
       "        text-align: right;\n",
       "    }\n",
       "</style>\n",
       "<table border=\"1\" class=\"dataframe\">\n",
       "  <thead>\n",
       "    <tr style=\"text-align: right;\">\n",
       "      <th></th>\n",
       "      <th>category</th>\n",
       "      <th>id</th>\n",
       "      <th>name</th>\n",
       "    </tr>\n",
       "  </thead>\n",
       "  <tbody>\n",
       "    <tr>\n",
       "      <th>0</th>\n",
       "      <td>Автомобильный бизнес</td>\n",
       "      <td>4</td>\n",
       "      <td>Автомойщик</td>\n",
       "    </tr>\n",
       "    <tr>\n",
       "      <th>1</th>\n",
       "      <td>Автомобильный бизнес</td>\n",
       "      <td>5</td>\n",
       "      <td>Автослесарь, автомеханик</td>\n",
       "    </tr>\n",
       "    <tr>\n",
       "      <th>2</th>\n",
       "      <td>Автомобильный бизнес</td>\n",
       "      <td>62</td>\n",
       "      <td>Мастер-приемщик</td>\n",
       "    </tr>\n",
       "  </tbody>\n",
       "</table>\n",
       "</div>"
      ],
      "text/plain": [
       "               category  id                      name\n",
       "0  Автомобильный бизнес   4                Автомойщик\n",
       "1  Автомобильный бизнес   5  Автослесарь, автомеханик\n",
       "2  Автомобильный бизнес  62           Мастер-приемщик"
      ]
     },
     "execution_count": 3,
     "metadata": {},
     "output_type": "execute_result"
    }
   ],
   "source": [
    "#получение списка специализаций с id\n",
    "\n",
    "response_json = requests.get(\"https://api.hh.ru/professional_roles\", headers={\"User-Agent\": \"Mozilla/5.0\"}).json()\n",
    "\n",
    "df_professions = []\n",
    "for i in response_json[\"categories\"]:\n",
    "    for k in i[\"roles\"]:\n",
    "        df_professions.append(\n",
    "            {\"category\": i[\"name\"], \n",
    "             \"id\": k[\"id\"], \n",
    "             \"name\": k[\"name\"]})\n",
    "\n",
    "df_professions = pd.DataFrame(df_professions)\n",
    "df_professions.head(3)"
   ]
  },
  {
   "cell_type": "code",
   "execution_count": 17,
   "id": "93ed0fb6",
   "metadata": {},
   "outputs": [],
   "source": [
    "df_professions.to_excel('hh_professions_' + str(datetime.now().strftime('%Y-%m-%d')) + '.xlsx', engine='xlsxwriter', sheet_name='Sheet1', na_rep='', columns=None, header=True, index=False, index_label=None, merge_cells=False)"
   ]
  },
  {
   "cell_type": "markdown",
   "id": "a350253d",
   "metadata": {},
   "source": [
    "---"
   ]
  },
  {
   "cell_type": "markdown",
   "id": "0076c1d5",
   "metadata": {},
   "source": [
    "#### При указании параметров пагинации (page, per_page) работает ограничение: глубина возвращаемых результатов не может быть больше 2000. Например, возможен запрос per_page=10&page=199 (выдача с 1991 по 2000 вакансию), но запрос с per_page=10&page=200 вернёт ошибку (выдача с 2001 по 2010 вакансию)\n",
    "\n",
    "    id\tname\n",
    "\n",
    "- 10\tАналитик\n",
    "- 112\tСетевой инженер\n",
    "- 113\tСистемный администратор\n",
    "- 114\tСистемный инженер\n",
    "- 116\tСпециалист по информационной безопасности\n",
    "- 121\tСпециалист технической поддержки\n",
    "- 124\tТестировщик\n",
    "- 148\tСистемный аналитик\n",
    "- 150\tБизнес-аналитик\n",
    "- 156\tBI-аналитик, аналитик данных\n",
    "- 157\tРуководитель отдела аналитики\n",
    "- 160\tDevOps-инженер\n",
    "- 164\tПродуктовый аналитик\n",
    "- 165\tДата-сайентист"
   ]
  },
  {
   "cell_type": "code",
   "execution_count": 30,
   "id": "d35abff1",
   "metadata": {},
   "outputs": [
    {
     "name": "stdout",
     "output_type": "stream",
     "text": [
      "CPU times: total: 8.67 s\n",
      "Wall time: 3min 11s\n"
     ]
    }
   ],
   "source": [
    "#%%time\n",
    "#CPU times: total: 8.19 s\n",
    "#Wall time: 3min 20s\n",
    "\n",
    "\n",
    "\n",
    "# список профессий, по которым будут выгружены вакансии\n",
    "it_professions = [10, 112, 113, 114, 116, 121, 124,\n",
    "                  148, 150, 156, 157, 160, 164, 165]\n",
    "\n",
    "# Функция запроса к API HH\n",
    "def vacancies_request(parameters):\n",
    "    vacancies_json = requests.get(\"https://api.hh.ru/vacancies\",\n",
    "                                  headers={\"User-Agent\": \"Mozilla/5.0\"}, params=parameters).json()\n",
    "    req_result = []\n",
    "    for i in vacancies_json[\"items\"]:\n",
    "        speciality = \"\"\n",
    "        for k in i[\"professional_roles\"]:\n",
    "            speciality = speciality + k['name'] + \" - \" + k['id']\n",
    "        req_result.append({\n",
    "            \"id\": i[\"id\"],\n",
    "            \"city\": i[\"area\"][\"name\"],\n",
    "            \"employer\": i[\"employer\"][\"name\"],\n",
    "            \"title\": i[\"name\"],\n",
    "            \"published_at\": i[\"published_at\"][:10],\n",
    "            \"requirements\": i[\"snippet\"][\"requirement\"],\n",
    "            \"speciality\": speciality,\n",
    "            \"URL\": i[\"alternate_url\"]\n",
    "        })\n",
    "    return req_result\n",
    "\n",
    "\n",
    "# цикл выгрузки вакансии по одной профессии из списка, с подциклом для выгрузки по 100 штук. Больше 100 за запрос нельзя.\n",
    "vacancies_total = []\n",
    "for k in range(0, len(it_professions)):\n",
    "    for i in range(0, 20):\n",
    "        params = {\n",
    "            \"professional_role\": it_professions[k],\n",
    "            \"area\": 1,\n",
    "            \"page\": i,\n",
    "            \"per_page\": 100  # максимум 100\n",
    "        }\n",
    "        vacancies_total.extend(vacancies_request(params))\n",
    "\n",
    "\n",
    "# полученный в цикле список передаем в датафрейм, убираем лишнее. Выгружаем в Excel.\n",
    "df_vacancies = pd.DataFrame(vacancies_total)\\\n",
    "                 .drop_duplicates(subset='id')\\\n",
    "                 .dropna(subset='requirements')\\\n",
    "                 .reset_index(drop=True)\n",
    "df_vacancies.published_at = pd.to_datetime(df_vacancies.published_at)\n",
    "\n",
    "df_vacancies.to_excel('hh_vacancies_' + str(datetime.now().strftime('%Y-%m-%d')) + '.xlsx',\n",
    "                      engine='xlsxwriter', index=False)\n",
    "\n",
    "\n",
    "# все слова из блоков с требованиями добавляем в отдельный список\n",
    "requirements_words = []\n",
    "[requirements_words.extend(re.split('\\W+', i)) for i in df_vacancies.requirements]\n",
    "\n",
    "# полученный список преобразуем в Series, убираем все числа, а также слова, содержацие символы из list_for_removing\n",
    "df_requirements = pd.Series(requirements_words).str.lower()\n",
    "df_requirements = [i for i in df_requirements if not all(k.isdigit() for k in i)]\n",
    "\n",
    "list_for_removing = ['a', 'б', 'в', 'г', 'д', 'е', 'ж', 'з', 'и', 'й', 'к',\n",
    "                     'л', 'м', 'н', 'о', 'п', 'р', 'с', 'т', 'у', 'ы', 'ч',\n",
    "                     'я', 'х', 'microsoft', 'it']\n",
    "df_requirements = [i for i in df_requirements if not any(k in i for k in list_for_removing)]\n",
    "\n",
    "# делаем датафрейм, корректируем, аггрегируем данные с частотой и выгружаем в Excel.\n",
    "df_requirements = pd.DataFrame(df_requirements)\\\n",
    "                    .rename(columns={0: 'words'})\\\n",
    "                    .query(\"words != ''\")\\\n",
    "                    .reset_index(drop=True)\n",
    "df_requirements['frequency'] = 1\n",
    "df_requirements = df_requirements.groupby('words', as_index=False)\\\n",
    "                                 .agg({'frequency': 'count'})\\\n",
    "                                 .sort_values('frequency', ascending=False)\n",
    "\n",
    "df_requirements.to_excel('hh_requirements_top_' + str(datetime.now().strftime('%Y-%m-%d')) + '.xlsx',\n",
    "                         engine='xlsxwriter', index=False)"
   ]
  }
 ],
 "metadata": {
  "kernelspec": {
   "display_name": "Python 3 (ipykernel)",
   "language": "python",
   "name": "python3"
  },
  "language_info": {
   "codemirror_mode": {
    "name": "ipython",
    "version": 3
   },
   "file_extension": ".py",
   "mimetype": "text/x-python",
   "name": "python",
   "nbconvert_exporter": "python",
   "pygments_lexer": "ipython3",
   "version": "3.11.1"
  },
  "varInspector": {
   "cols": {
    "lenName": 16,
    "lenType": 16,
    "lenVar": 40
   },
   "kernels_config": {
    "python": {
     "delete_cmd_postfix": "",
     "delete_cmd_prefix": "del ",
     "library": "var_list.py",
     "varRefreshCmd": "print(var_dic_list())"
    },
    "r": {
     "delete_cmd_postfix": ") ",
     "delete_cmd_prefix": "rm(",
     "library": "var_list.r",
     "varRefreshCmd": "cat(var_dic_list()) "
    }
   },
   "position": {
    "height": "384.857px",
    "left": "1266.43px",
    "right": "20px",
    "top": "120px",
    "width": "359.857px"
   },
   "types_to_exclude": [
    "module",
    "function",
    "builtin_function_or_method",
    "instance",
    "_Feature"
   ],
   "window_display": false
  }
 },
 "nbformat": 4,
 "nbformat_minor": 5
}
